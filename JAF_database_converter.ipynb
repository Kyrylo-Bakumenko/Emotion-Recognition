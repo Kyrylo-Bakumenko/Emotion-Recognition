{
 "cells": [
  {
   "cell_type": "code",
   "execution_count": 7,
   "metadata": {},
   "outputs": [
    {
     "name": "stdout",
     "output_type": "stream",
     "text": [
      "C:/Users/baby yoda/Downloads/jaffedbase/jaffedbase/Surprise_tiff\\desktop.ini\n",
      "C:/Users/baby yoda/Downloads/jaffedbase/jaffedbase/Surprise_tiff\\KA.SU1.36.tiff\n",
      "Generating jpeg for KA.SU1.36.tiff\n",
      "C:/Users/baby yoda/Downloads/jaffedbase/jaffedbase/Surprise_tiff\\KA.SU2.37.tiff\n",
      "Generating jpeg for KA.SU2.37.tiff\n",
      "C:/Users/baby yoda/Downloads/jaffedbase/jaffedbase/Surprise_tiff\\KA.SU3.38.tiff\n",
      "Generating jpeg for KA.SU3.38.tiff\n",
      "C:/Users/baby yoda/Downloads/jaffedbase/jaffedbase/Surprise_tiff\\KL.SU1.164.tiff\n",
      "Generating jpeg for KL.SU1.164.tiff\n",
      "C:/Users/baby yoda/Downloads/jaffedbase/jaffedbase/Surprise_tiff\\KL.SU2.165.tiff\n",
      "Generating jpeg for KL.SU2.165.tiff\n",
      "C:/Users/baby yoda/Downloads/jaffedbase/jaffedbase/Surprise_tiff\\KL.SU3.166.tiff\n",
      "Generating jpeg for KL.SU3.166.tiff\n",
      "C:/Users/baby yoda/Downloads/jaffedbase/jaffedbase/Surprise_tiff\\KM.SU1.14.tiff\n",
      "Generating jpeg for KM.SU1.14.tiff\n",
      "C:/Users/baby yoda/Downloads/jaffedbase/jaffedbase/Surprise_tiff\\KM.SU2.15.tiff\n",
      "Generating jpeg for KM.SU2.15.tiff\n",
      "C:/Users/baby yoda/Downloads/jaffedbase/jaffedbase/Surprise_tiff\\KM.SU3.16.tiff\n",
      "Generating jpeg for KM.SU3.16.tiff\n",
      "C:/Users/baby yoda/Downloads/jaffedbase/jaffedbase/Surprise_tiff\\KR.SU1.80.tiff\n",
      "Generating jpeg for KR.SU1.80.tiff\n",
      "C:/Users/baby yoda/Downloads/jaffedbase/jaffedbase/Surprise_tiff\\KR.SU2.81.tiff\n",
      "Generating jpeg for KR.SU2.81.tiff\n",
      "C:/Users/baby yoda/Downloads/jaffedbase/jaffedbase/Surprise_tiff\\KR.SU3.82.tiff\n",
      "Generating jpeg for KR.SU3.82.tiff\n",
      "C:/Users/baby yoda/Downloads/jaffedbase/jaffedbase/Surprise_tiff\\MK.SU1.122.tiff\n",
      "Generating jpeg for MK.SU1.122.tiff\n",
      "C:/Users/baby yoda/Downloads/jaffedbase/jaffedbase/Surprise_tiff\\MK.SU2.123.tiff\n",
      "Generating jpeg for MK.SU2.123.tiff\n",
      "C:/Users/baby yoda/Downloads/jaffedbase/jaffedbase/Surprise_tiff\\MK.SU3.124.tiff\n",
      "Generating jpeg for MK.SU3.124.tiff\n",
      "C:/Users/baby yoda/Downloads/jaffedbase/jaffedbase/Surprise_tiff\\NA.SU1.208.tiff\n",
      "Generating jpeg for NA.SU1.208.tiff\n",
      "C:/Users/baby yoda/Downloads/jaffedbase/jaffedbase/Surprise_tiff\\NA.SU2.209.tiff\n",
      "Generating jpeg for NA.SU2.209.tiff\n",
      "C:/Users/baby yoda/Downloads/jaffedbase/jaffedbase/Surprise_tiff\\NA.SU3.210.tiff\n",
      "Generating jpeg for NA.SU3.210.tiff\n",
      "C:/Users/baby yoda/Downloads/jaffedbase/jaffedbase/Surprise_tiff\\NM.SU1.101.tiff\n",
      "Generating jpeg for NM.SU1.101.tiff\n",
      "C:/Users/baby yoda/Downloads/jaffedbase/jaffedbase/Surprise_tiff\\NM.SU2.102.tiff\n",
      "Generating jpeg for NM.SU2.102.tiff\n",
      "C:/Users/baby yoda/Downloads/jaffedbase/jaffedbase/Surprise_tiff\\NM.SU3.103.tiff\n",
      "Generating jpeg for NM.SU3.103.tiff\n",
      "C:/Users/baby yoda/Downloads/jaffedbase/jaffedbase/Surprise_tiff\\TM.SU1.187.tiff\n",
      "Generating jpeg for TM.SU1.187.tiff\n",
      "C:/Users/baby yoda/Downloads/jaffedbase/jaffedbase/Surprise_tiff\\TM.SU2.188.tiff\n",
      "Generating jpeg for TM.SU2.188.tiff\n",
      "C:/Users/baby yoda/Downloads/jaffedbase/jaffedbase/Surprise_tiff\\TM.SU3.189.tiff\n",
      "Generating jpeg for TM.SU3.189.tiff\n",
      "C:/Users/baby yoda/Downloads/jaffedbase/jaffedbase/Surprise_tiff\\UY.SU1.143.tiff\n",
      "Generating jpeg for UY.SU1.143.tiff\n",
      "C:/Users/baby yoda/Downloads/jaffedbase/jaffedbase/Surprise_tiff\\UY.SU2.144.tiff\n",
      "Generating jpeg for UY.SU2.144.tiff\n",
      "C:/Users/baby yoda/Downloads/jaffedbase/jaffedbase/Surprise_tiff\\UY.SU3.145.tiff\n",
      "Generating jpeg for UY.SU3.145.tiff\n",
      "C:/Users/baby yoda/Downloads/jaffedbase/jaffedbase/Surprise_tiff\\YM.SU1.58.tiff\n",
      "Generating jpeg for YM.SU1.58.tiff\n",
      "C:/Users/baby yoda/Downloads/jaffedbase/jaffedbase/Surprise_tiff\\YM.SU2.59.tiff\n",
      "Generating jpeg for YM.SU2.59.tiff\n",
      "C:/Users/baby yoda/Downloads/jaffedbase/jaffedbase/Surprise_tiff\\YM.SU3.60.tiff\n",
      "Generating jpeg for YM.SU3.60.tiff\n"
     ]
    }
   ],
   "source": [
    "import os\n",
    "from PIL import Image\n",
    "\n",
    "\n",
    "yourpath = 'C:/Users/baby yoda/Downloads/jaffedbase/jaffedbase/Surprise_tiff'\n",
    "for root, dirs, files in os.walk(yourpath, topdown=False):\n",
    "    for name in files:\n",
    "        print(os.path.join(root, name))\n",
    "        if os.path.splitext(os.path.join(root, name))[1].lower() == \".tiff\":\n",
    "            if os.path.isfile(os.path.splitext(os.path.join(root, name))[0] + \".jpg\"):\n",
    "                print(\"A jpeg file already exists for %s\" % name)\n",
    "            # If a jpeg is *NOT* present, create one from the tiff.\n",
    "            else:\n",
    "                outfile = os.path.splitext(os.path.join(root, name))[0] + \".jpg\"\n",
    "                try:\n",
    "                    im = Image.open(os.path.join(root, name)).convert('RGB')\n",
    "                    print(\"Generating jpeg for %s\" % name)\n",
    "                    im.thumbnail(im.size)\n",
    "                    im.save(outfile, \"JPEG\", quality=100)\n",
    "                except Exception as e:\n",
    "                    print(e)\n"
   ]
  },
  {
   "cell_type": "code",
   "execution_count": 14,
   "metadata": {},
   "outputs": [
    {
     "name": "stdout",
     "output_type": "stream",
     "text": [
      "Collecting Pillow\n",
      "  Downloading https://files.pythonhosted.org/packages/f7/2a/e4efd9f31ed11af9954b2e0470ed346735700b4492743c0480c172420ca3/Pillow-7.1.2-cp37-cp37m-win_amd64.whl (2.0MB)\n",
      "Installing collected packages: Pillow\n",
      "Successfully installed Pillow-7.1.2\n"
     ]
    }
   ],
   "source": [
    "!pip install --upgrade Pillow"
   ]
  },
  {
   "cell_type": "code",
   "execution_count": 30,
   "metadata": {},
   "outputs": [
    {
     "name": "stdout",
     "output_type": "stream",
     "text": [
      "WARNING:tensorflow:No training configuration found in the save file, so the model was *not* compiled. Compile it manually.\n",
      "[[0.999998   0.00000208]]\n"
     ]
    }
   ],
   "source": [
    "import tensorflow.keras\n",
    "from PIL import Image, ImageOps\n",
    "import numpy as np\n",
    "\n",
    "# Disable scientific notation for clarity\n",
    "np.set_printoptions(suppress=True)\n",
    "\n",
    "# Load the model\n",
    "model = tensorflow.keras.models.load_model('C:/Users/baby yoda/Downloads/converted_keras/keras_model.h5')\n",
    "\n",
    "# Create the array of the right shape to feed into the keras model\n",
    "# The 'length' or number of images you can put into the array is\n",
    "# determined by the first position in the shape tuple, in this case 1.\n",
    "data = np.ndarray(shape=(1, 224, 224, 3), dtype=np.float32)\n",
    "\n",
    "# Replace this with the path to your image\n",
    "image = Image.open('C:/Users/baby yoda/Pictures/jon-snow-got-737a_orig.png')\n",
    "\n",
    "\n",
    "#resize the image to a 224x224 with the same strategy as in TM2:\n",
    "#resizing the image to be at least 224x224 and then cropping from the center\n",
    "size = (224, 224)\n",
    "image = ImageOps.fit(image, size, Image.ANTIALIAS)\n",
    "\n",
    "#turn the image into a numpy array\n",
    "image_array = np.asarray(image)\n",
    "\n",
    "# display the resized image\n",
    "image.show()\n",
    "\n",
    "# Normalize the image\n",
    "normalized_image_array = (image_array.astype(np.float32) / 127.0) - 1\n",
    "\n",
    "# Load the image into the array\n",
    "data[0] = normalized_image_array\n",
    "\n",
    "# run the inference\n",
    "prediction = model.predict(data)\n",
    "print(prediction)\n"
   ]
  },
  {
   "cell_type": "code",
   "execution_count": null,
   "metadata": {},
   "outputs": [],
   "source": [
    "# Emotions\n",
    "# https://teachablemachine.withgoogle.com/models/Ny7qglB6f/\n",
    "#\n",
    "# Cat/Dog\n",
    "# https://teachablemachine.withgoogle.com/models/eDMKTnC29/"
   ]
  }
 ],
 "metadata": {
  "kernelspec": {
   "display_name": "Python 3",
   "language": "python",
   "name": "python3"
  },
  "language_info": {
   "codemirror_mode": {
    "name": "ipython",
    "version": 3
   },
   "file_extension": ".py",
   "mimetype": "text/x-python",
   "name": "python",
   "nbconvert_exporter": "python",
   "pygments_lexer": "ipython3",
   "version": "3.7.6"
  }
 },
 "nbformat": 4,
 "nbformat_minor": 4
}
